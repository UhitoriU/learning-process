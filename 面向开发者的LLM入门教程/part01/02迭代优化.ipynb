{
 "cells": [
  {
   "cell_type": "code",
   "execution_count": 3,
   "metadata": {},
   "outputs": [],
   "source": [
    "import openai\n",
    "import os\n",
    "openai.api_key=os.environ['OPENAI_API_KEY']\n",
    "openai.base_url=os.environ['BASE_URL']\n",
    "\n",
    "# 一个封装 OpenAI 接口的函数，参数为 Prompt，返回对应结果\n",
    "def get_completion(prompt,model=\"gpt-3.5-turbo\"):\n",
    "    messages = [{\"role\":\"user\",\"content\":prompt}]\n",
    "    response = openai.chat.completions.create(\n",
    "        model = model,\n",
    "        messages = messages,\n",
    "        temperature = 0,\n",
    "    )\n",
    "    return response.choices[0].message.content"
   ]
  },
  {
   "cell_type": "code",
   "execution_count": 1,
   "metadata": {},
   "outputs": [],
   "source": [
    "# 1 任务——从产品说明书生成一份营销产品描述\n",
    "\n",
    "fact_sheet_chair = \"\"\"\n",
    "概述\n",
    "\n",
    "    美丽的中世纪风格办公家具系列的一部分，包括文件柜、办公桌、书柜、会议桌等。\n",
    "    多种外壳颜色和底座涂层可选。\n",
    "    可选塑料前后靠背装饰（SWC-100）或10种面料和6种皮革的全面装饰（SWC-110）。\n",
    "    底座涂层选项为：不锈钢、哑光黑色、光泽白色或铬。\n",
    "    椅子可带或不带扶手。\n",
    "    适用于家庭或商业场所。\n",
    "    符合合同使用资格。\n",
    "\n",
    "结构\n",
    "\n",
    "    五个轮子的塑料涂层铝底座。\n",
    "    气动椅子调节，方便升降。\n",
    "\n",
    "尺寸\n",
    "\n",
    "    宽度53厘米|20.87英寸\n",
    "    深度51厘米|20.08英寸\n",
    "    高度80厘米|31.50英寸\n",
    "    座椅高度44厘米|17.32英寸\n",
    "    座椅深度41厘米|16.14英寸\n",
    "\n",
    "选项\n",
    "\n",
    "    软地板或硬地板滚轮选项。\n",
    "    两种座椅泡沫密度可选：中等（1.8磅/立方英尺）或高（2.8磅/立方英尺）。\n",
    "    无扶手或8个位置PU扶手。\n",
    "\n",
    "材料\n",
    "外壳底座滑动件\n",
    "\n",
    "    改性尼龙PA6/PA66涂层的铸铝。\n",
    "    外壳厚度：10毫米。\n",
    "    座椅\n",
    "    HD36泡沫\n",
    "\n",
    "原产国\n",
    "\n",
    "    意大利\n",
    "\"\"\""
   ]
  },
  {
   "cell_type": "code",
   "execution_count": 4,
   "metadata": {},
   "outputs": [
    {
     "name": "stdout",
     "output_type": "stream",
     "text": [
      "产品描述：\n",
      "\n",
      "我们引以为傲地推出美丽的中世纪风格办公家具系列，包括文件柜、办公桌、书柜、会议桌等，为您的办公室带来优雅与舒适的氛围。这款产品不仅外形精美，还具有多种外壳颜色和底座涂层可选，满足您个性化的装饰需求。\n",
      "\n",
      "我们的办公椅可选塑料前后靠背装饰或全面装饰，提供多达10种面料和6种皮革选择，让您在舒适感和风格上都能找到理想的组合。底座涂层选项包括不锈钢、哑光黑色、光泽白色或铬，椅子则可选择带或不带扶手，满足不同场合的需求。\n",
      "\n",
      "这款办公椅适用于家庭或商业场所，具有五个轮子的塑料涂层铝底座和气动椅子调节功能，能方便地升降座椅高度。尺寸方面，宽度53厘米，深度51厘米，高度80厘米，座椅高度44厘米，座椅深度41厘米，为您提供舒适的坐姿。\n",
      "\n",
      "此外，我们还提供软地板或硬地板滚轮选项，两种座椅泡沫密度可选，以及无扶手或8个位置PU扶手选择，满足个性化需求。材料上采用意大利原产的高品质材料，保证产品的品质和耐用性。\n",
      "\n",
      "无论是在家办公还是商业办公场所，我们的中世纪风格办公椅系列都能为您的办公环境增添一丝优雅与舒适。选择我们的产品，让您的办公空间焕然一新！\n"
     ]
    }
   ],
   "source": [
    "prompt = f\"\"\"\n",
    "您的任务是帮助营销团队基于技术说明书创建一个产品的营销描述。\n",
    "\n",
    "根据```标记的技术说明书中提供的信息，编写一个产品描述。\n",
    "\n",
    "技术说明: ```{fact_sheet_chair}```\n",
    "\"\"\"\n",
    "response = get_completion(prompt)\n",
    "print(response)"
   ]
  },
  {
   "cell_type": "code",
   "execution_count": 5,
   "metadata": {},
   "outputs": [
    {
     "name": "stdout",
     "output_type": "stream",
     "text": [
      "欢迎来到我们的中世纪风格办公家具系列!这款美丽的办公椅具有多种颜色和装饰选择，适合各种场合。座椅高度可调，座椅内部采用高质量泡沫填充。意大利制造保证品质。现在就选购，为您的空间增添优雅和舒适！\n"
     ]
    }
   ],
   "source": [
    "# 1.1 问题一：生成文本太长\n",
    "\n",
    "# 优化后的 Prompt，要求生成描述不多于 50 词\n",
    "prompt = f\"\"\"\n",
    "您的任务是帮助营销团队基于技术说明书创建一个产品的零售网站描述。\n",
    "\n",
    "根据```标记的技术说明书中提供的信息，编写一个产品描述。\n",
    "\n",
    "使用最多50个词。\n",
    "\n",
    "技术规格：```{fact_sheet_chair}```\n",
    "\"\"\"\n",
    "response = get_completion(prompt)\n",
    "print(response)"
   ]
  },
  {
   "cell_type": "code",
   "execution_count": 6,
   "metadata": {},
   "outputs": [
    {
     "name": "stdout",
     "output_type": "stream",
     "text": [
      "96\n"
     ]
    }
   ],
   "source": [
    "print(len(response))"
   ]
  },
  {
   "cell_type": "code",
   "execution_count": 7,
   "metadata": {},
   "outputs": [
    {
     "name": "stdout",
     "output_type": "stream",
     "text": [
      "我们的中世纪风格办公家具系列是优雅的选择，包括文件柜、办公桌和书柜等。可选多种颜色和底座涂层，适合家庭或商业使用。结构坚固，座椅材料选自高品质HD36泡沫。座椅调节便捷，可选择软硬地板滚轮和不锈钢底座。意大利制造，符合合同使用要求。\n"
     ]
    }
   ],
   "source": [
    "# 1.2 问题二：抓错文本细节\n",
    "\n",
    "# 优化后的 Prompt，说明面向对象，应具有什么性质且侧重于什么方面\n",
    "prompt = f\"\"\"\n",
    "您的任务是帮助营销团队基于技术说明书创建一个产品的零售网站描述。\n",
    "\n",
    "根据```标记的技术说明书中提供的信息，编写一个产品描述。\n",
    "\n",
    "该描述面向家具零售商，因此应具有技术性质，并侧重于产品的材料构造。\n",
    "\n",
    "使用最多50个单词。\n",
    "\n",
    "技术规格： ```{fact_sheet_chair}```\n",
    "\"\"\"\n",
    "response = get_completion(prompt)\n",
    "print(response)"
   ]
  },
  {
   "cell_type": "code",
   "execution_count": 9,
   "metadata": {},
   "outputs": [
    {
     "name": "stdout",
     "output_type": "stream",
     "text": [
      "欢迎来到我们的中世纪风格办公家具系列！包括文件柜、办公桌、书柜等产品。座椅可选择塑料靠背或多种面料和皮革装饰。底座可选不锈钢、黑色或白色涂层。具有五个轮子的铝底座和气动调节。尺寸为宽53厘米，深51厘米，高80厘米，座椅高度44厘米。多种选项可选，符合家庭和商业使用。商品ID：SWC-100。\n"
     ]
    }
   ],
   "source": [
    "# 更进一步\n",
    "prompt = f\"\"\"\n",
    "您的任务是帮助营销团队基于技术说明书创建一个产品的零售网站描述。\n",
    "\n",
    "根据```标记的技术说明书中提供的信息，编写一个产品描述。\n",
    "\n",
    "该描述面向家具零售商，因此应具有技术性质，并侧重于产品的材料构造。\n",
    "\n",
    "在描述末尾，包括技术规格中每个7个字符的产品ID。\n",
    "\n",
    "使用最多50个单词。\n",
    "\n",
    "技术规格： ```{fact_sheet_chair}```\n",
    "\"\"\"\n",
    "response = get_completion(prompt)\n",
    "print(response)"
   ]
  },
  {
   "cell_type": "code",
   "execution_count": 10,
   "metadata": {},
   "outputs": [
    {
     "name": "stdout",
     "output_type": "stream",
     "text": [
      "```html\n",
      "<div>\n",
      "    <p>这款美丽的中世纪风格办公家具系列是您家具店的不二选择，包括文件柜、办公桌、书柜和会议桌等。可根据您的喜好选择多种外壳颜色和底座涂层，让您的办公空间焕然一新。椅子可选带或不带扶手，适用于家庭或商业场所。</p>\n",
      "    <p>这款办公家具符合合同使用资格，具有五个轮子的塑料涂层铝底座，提供舒适的气动椅子调节功能，方便升降。外壳底座滑动件使用改性尼龙PA6/PA66涂层的铸铝，座椅采用HD36泡沫制成。</p>\n",
      "    <p>技术规格：<strong>SWC-100</strong></p>\n",
      "</div>\n",
      "\n",
      "<table>\n",
      "    <caption>产品尺寸</caption>\n",
      "    <tr>\n",
      "        <td>宽度</td>\n",
      "        <td>20.87英寸</td>\n",
      "    </tr>\n",
      "    <tr>\n",
      "        <td>深度</td>\n",
      "        <td>20.08英寸</td>\n",
      "    </tr>\n",
      "    <tr>\n",
      "        <td>高度</td>\n",
      "        <td>31.50英寸</td>\n",
      "    </tr>\n",
      "    <tr>\n",
      "        <td>座椅高度</td>\n",
      "        <td>17.32英寸</td>\n",
      "    </tr>\n",
      "    <tr>\n",
      "        <td>座椅深度</td>\n",
      "        <td>16.14英寸</td>\n",
      "    </tr>\n",
      "</table>\n",
      "```\n"
     ]
    }
   ],
   "source": [
    "# 3 问题三：添加表格描述\n",
    "# 要求它抽取信息并组织成表格，并指定表格的列、表名和格式\n",
    "prompt = f\"\"\"\n",
    "您的任务是帮助营销团队基于技术说明书创建一个产品的零售网站描述。\n",
    "\n",
    "根据```标记的技术说明书中提供的信息，编写一个产品描述。\n",
    "\n",
    "该描述面向家具零售商，因此应具有技术性质，并侧重于产品的材料构造。\n",
    "\n",
    "在描述末尾，包括技术规格中每个7个字符的产品ID。\n",
    "\n",
    "在描述之后，包括一个表格，提供产品的尺寸。表格应该有两列。第一列包括尺寸的名称。第二列只包括英寸的测量值。\n",
    "\n",
    "给表格命名为“产品尺寸”。\n",
    "\n",
    "将所有内容格式化为可用于网站的HTML格式。将描述放在<div>元素中。\n",
    "\n",
    "技术规格：```{fact_sheet_chair}```\n",
    "\"\"\"\n",
    "\n",
    "response = get_completion(prompt)\n",
    "print(response)"
   ]
  },
  {
   "cell_type": "code",
   "execution_count": 11,
   "metadata": {},
   "outputs": [
    {
     "data": {
      "text/html": [
       "```html\n",
       "<div>\n",
       "    <p>这款美丽的中世纪风格办公家具系列是您家具店的不二选择，包括文件柜、办公桌、书柜和会议桌等。可根据您的喜好选择多种外壳颜色和底座涂层，让您的办公空间焕然一新。椅子可选带或不带扶手，适用于家庭或商业场所。</p>\n",
       "    <p>这款办公家具符合合同使用资格，具有五个轮子的塑料涂层铝底座，提供舒适的气动椅子调节功能，方便升降。外壳底座滑动件使用改性尼龙PA6/PA66涂层的铸铝，座椅采用HD36泡沫制成。</p>\n",
       "    <p>技术规格：<strong>SWC-100</strong></p>\n",
       "</div>\n",
       "\n",
       "<table>\n",
       "    <caption>产品尺寸</caption>\n",
       "    <tr>\n",
       "        <td>宽度</td>\n",
       "        <td>20.87英寸</td>\n",
       "    </tr>\n",
       "    <tr>\n",
       "        <td>深度</td>\n",
       "        <td>20.08英寸</td>\n",
       "    </tr>\n",
       "    <tr>\n",
       "        <td>高度</td>\n",
       "        <td>31.50英寸</td>\n",
       "    </tr>\n",
       "    <tr>\n",
       "        <td>座椅高度</td>\n",
       "        <td>17.32英寸</td>\n",
       "    </tr>\n",
       "    <tr>\n",
       "        <td>座椅深度</td>\n",
       "        <td>16.14英寸</td>\n",
       "    </tr>\n",
       "</table>\n",
       "```"
      ],
      "text/plain": [
       "<IPython.core.display.HTML object>"
      ]
     },
     "metadata": {},
     "output_type": "display_data"
    }
   ],
   "source": [
    "from IPython.display import display,HTML\n",
    "display(HTML(response))"
   ]
  },
  {
   "cell_type": "code",
   "execution_count": null,
   "metadata": {},
   "outputs": [],
   "source": []
  }
 ],
 "metadata": {
  "kernelspec": {
   "display_name": "chatgpt",
   "language": "python",
   "name": "python3"
  },
  "language_info": {
   "codemirror_mode": {
    "name": "ipython",
    "version": 3
   },
   "file_extension": ".py",
   "mimetype": "text/x-python",
   "name": "python",
   "nbconvert_exporter": "python",
   "pygments_lexer": "ipython3",
   "version": "3.9.20"
  }
 },
 "nbformat": 4,
 "nbformat_minor": 2
}
